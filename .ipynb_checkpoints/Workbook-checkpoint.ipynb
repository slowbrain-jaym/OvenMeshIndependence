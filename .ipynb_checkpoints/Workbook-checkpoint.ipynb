{
 "cells": [
  {
   "cell_type": "code",
   "execution_count": null,
   "metadata": {},
   "outputs": [],
   "source": [
    "import plotly.express as px\n",
    "import plotly.graph_objects as go\n",
    "import plotly.offline as pyo\n",
    "import pandas as pd\n",
    "import matplotlib.pyplot as plt\n",
    "import numpy as np\n",
    "import itertools\n",
    "from mpl_toolkits.mplot3d import Axes3D\n",
    "import matplotlib.cm as cm\n",
    "import scipy.stats as stats\n",
    "import scipy.interpolate as inter\n",
    "idx = pd.IndexSlice\n",
    "pyo.init_notebook_mode()\n",
    "\n",
    "\n",
    "root_folder = r\"C:\\Users\\jamen\\Google Drive\\Everything\\Results\\P1 Model\\OvenMeshIndy\\\\\"\n",
    "meshes = [[\"Mesh1\",0,60,1]] # name, first timestep, final timestep, timestep\n",
    "areas = [\"Food\",\"Inlet\",\"Outlet\",\"Walls\"] # prefix for each filename"
   ]
  }
 ],
 "metadata": {
  "kernelspec": {
   "display_name": "Python 3",
   "language": "python",
   "name": "python3"
  },
  "language_info": {
   "codemirror_mode": {
    "name": "ipython",
    "version": 3
   },
   "file_extension": ".py",
   "mimetype": "text/x-python",
   "name": "python",
   "nbconvert_exporter": "python",
   "pygments_lexer": "ipython3",
   "version": "3.7.1"
  }
 },
 "nbformat": 4,
 "nbformat_minor": 4
}
